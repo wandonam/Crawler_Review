{
 "cells": [
  {
   "cell_type": "markdown",
   "metadata": {},
   "source": [
    "### **SELENIUM CRAWLING** *(SmartStore)*"
   ]
  },
  {
   "cell_type": "markdown",
   "metadata": {},
   "source": [
    "---"
   ]
  },
  {
   "cell_type": "markdown",
   "metadata": {},
   "source": [
    "#### **SET UP**"
   ]
  },
  {
   "cell_type": "markdown",
   "metadata": {},
   "source": [
    "##### *library*"
   ]
  },
  {
   "cell_type": "code",
   "execution_count": 18,
   "metadata": {},
   "outputs": [],
   "source": [
    "import platform\n",
    "import re, requests, csv, sys, os, zipfile\n",
    "\n",
    "os_name = platform.system().lower()\n",
    "architecture = platform.machine()\n",
    "\n",
    "import requests\n",
    "from bs4 import BeautifulSoup\n",
    "import pandas as pd\n",
    "from datetime import datetime\n",
    "import time\n",
    "from time import sleep"
   ]
  },
  {
   "cell_type": "code",
   "execution_count": 19,
   "metadata": {},
   "outputs": [],
   "source": [
    "# selenium import\n",
    "from selenium import webdriver\n",
    "from selenium.webdriver.chrome.options import Options\n",
    "from selenium.webdriver.common.keys import Keys\n",
    "from selenium.webdriver.common.by import By\n",
    "from datetime import datetime, timedelta\n",
    "from selenium.webdriver.chrome.service import Service\n",
    "from webdriver_manager.chrome import ChromeDriverManager\n",
    "from selenium.webdriver.chrome.service import Service\n",
    "from bs4 import BeautifulSoup\n",
    "from dateutil import parser\n",
    "from selenium.webdriver.support.ui import WebDriverWait\n",
    "from selenium.webdriver.support import expected_conditions as EC"
   ]
  },
  {
   "cell_type": "markdown",
   "metadata": {},
   "source": [
    "##### *accept*"
   ]
  },
  {
   "cell_type": "code",
   "execution_count": 20,
   "metadata": {},
   "outputs": [
    {
     "data": {
      "text/plain": [
       "'../driver\\\\chromedriver-win64\\\\chromedriver.exe'"
      ]
     },
     "execution_count": 20,
     "metadata": {},
     "output_type": "execute_result"
    }
   ],
   "source": [
    "from glob import glob\n",
    "\n",
    "driver_path = None\n",
    "if os_name == 'darwin': # 맥 사용자\n",
    "    driver_path = glob('../driver/**/chromedriver', recursive=True)[0]\n",
    "else: # 윈도우 사용자\n",
    "    driver_path = glob('../driver/**/chromedriver.exe', recursive=True)[0]\n",
    "\n",
    "driver_path"
   ]
  },
  {
   "cell_type": "code",
   "execution_count": 21,
   "metadata": {},
   "outputs": [],
   "source": [
    "# 드라이버 파일의 권한을 확인하고 수정\n",
    "if os_name == 'darwin':  # 맥 사용자\n",
    "    driver_permissions = os.stat(driver_path).st_mode\n",
    "    if not (driver_permissions & 0o100):  # 실행 권한 확인\n",
    "        os.chmod(driver_path, driver_permissions | 0o111)  # 실행 권한 추가\n",
    "else:  # 윈도우 사용자\n",
    "    driver_permissions = os.stat(driver_path).st_mode\n",
    "    if not (driver_permissions & 0o100):  # 실행 권한 확인\n",
    "        os.chmod(driver_path, driver_permissions | 0o111)  # 실행 권한 추가\n"
   ]
  },
  {
   "cell_type": "code",
   "execution_count": 22,
   "metadata": {},
   "outputs": [],
   "source": [
    "service = Service(executable_path=driver_path)\n",
    "chrome_options =  webdriver.ChromeOptions()\n",
    "#chrome_options.add_argument('--headless')\n",
    "chrome_options.add_argument('--disable-gpu')\n",
    "chrome_options.add_argument('--disable-dev-shm-usage')\n",
    "chrome_options.add_argument('--no-sandbox')\n",
    "chrome_options.add_argument('--blink-settings=imagesEnabled=false')"
   ]
  },
  {
   "cell_type": "markdown",
   "metadata": {},
   "source": [
    "#### **WORK SPACE**"
   ]
  },
  {
   "cell_type": "code",
   "execution_count": 23,
   "metadata": {},
   "outputs": [],
   "source": [
    "url = 'https://smartstore.naver.com/rkrguswoo/products/10244529817'"
   ]
  },
  {
   "cell_type": "markdown",
   "metadata": {},
   "source": [
    "##### *chrome setting*"
   ]
  },
  {
   "cell_type": "code",
   "execution_count": 24,
   "metadata": {},
   "outputs": [],
   "source": [
    "# Web OPEN\n",
    "driver = webdriver.Chrome(service=service, options=chrome_options)\n",
    "driver.get(url)"
   ]
  },
  {
   "cell_type": "code",
   "execution_count": 25,
   "metadata": {},
   "outputs": [],
   "source": [
    "# Web ZOOM\n",
    "driver.execute_script(\"document.body.style.zoom='10%'\")\n",
    "# Web Height\n",
    "last_height = driver.execute_script(\"return document.body.scrollHeight\")"
   ]
  },
  {
   "cell_type": "code",
   "execution_count": 26,
   "metadata": {},
   "outputs": [],
   "source": [
    "# Page Loading\n",
    "\n",
    "while True:\n",
    "    # 끝까지 스크롤 다운\n",
    "    driver.execute_script(\"window.scrollTo(0, document.body.scrollHeight);\")\n",
    "\n",
    "    # 1초 대기\n",
    "    time.sleep(1)\n",
    "\n",
    "    # 스크롤 다운 후 스크롤 높이 다시 가져옴\n",
    "    new_height = driver.execute_script(\"return document.body.scrollHeight\")\n",
    "    if new_height == last_height:\n",
    "        break\n",
    "    last_height = new_height"
   ]
  },
  {
   "cell_type": "markdown",
   "metadata": {},
   "source": [
    "##### *Crawling*"
   ]
  },
  {
   "cell_type": "code",
   "execution_count": 27,
   "metadata": {},
   "outputs": [],
   "source": [
    "# Parsing\n",
    "soup = BeautifulSoup(driver.page_source, 'html.parser')\n",
    "data = []"
   ]
  },
  {
   "cell_type": "code",
   "execution_count": 28,
   "metadata": {},
   "outputs": [],
   "source": [
    "# Count page\n",
    "count_page = (soup.select_one('#content > div > div.z7cS6-TO7X > div._27jmWaPaKy > ul > li:nth-child(2) > a > span').text)\n",
    "page_int = int(count_page.replace(',', ''))\n",
    "page_no = (page_int + 20 - 1)//20"
   ]
  },
  {
   "cell_type": "code",
   "execution_count": 29,
   "metadata": {},
   "outputs": [],
   "source": [
    "# Page Selector\n",
    "selector_page = soup.select_one('#REVIEW  a[data-shp-contents-id=\\\"1\\\"]')"
   ]
  },
  {
   "cell_type": "code",
   "execution_count": 30,
   "metadata": {},
   "outputs": [
    {
     "data": {
      "text/plain": [
       "'홀베리 1일1레몬 100% 유기농 레몬즙 착즙액 14포 1박스 : 화수분'"
      ]
     },
     "execution_count": 30,
     "metadata": {},
     "output_type": "execute_result"
    }
   ],
   "source": [
    "# Title selector\n",
    "selector_title = soup.select_one('title')\n",
    "\n",
    "# Title Text\n",
    "selector_title.text"
   ]
  },
  {
   "cell_type": "code",
   "execution_count": 31,
   "metadata": {},
   "outputs": [],
   "source": [
    "# Review selector\n",
    "good = ('#REVIEW div._1McWUwk15j')\n",
    "selector = soup.select_one(good)"
   ]
  },
  {
   "cell_type": "code",
   "execution_count": 32,
   "metadata": {},
   "outputs": [],
   "source": [
    "# Id selector\n",
    "id = selector.select_one('strong._2L3vDiadT9').text"
   ]
  },
  {
   "cell_type": "code",
   "execution_count": 33,
   "metadata": {},
   "outputs": [],
   "source": [
    "# Created selector\n",
    "created = parser.parse(selector.select_one('span._2L3vDiadT9').text)"
   ]
  },
  {
   "cell_type": "code",
   "execution_count": 34,
   "metadata": {},
   "outputs": [
    {
     "data": {
      "text/plain": [
       "datetime.datetime(2003, 10, 24, 0, 0)"
      ]
     },
     "execution_count": 34,
     "metadata": {},
     "output_type": "execute_result"
    }
   ],
   "source": [
    "created"
   ]
  },
  {
   "cell_type": "code",
   "execution_count": 35,
   "metadata": {},
   "outputs": [],
   "source": [
    "# Rate selector\n",
    "rate = selector.select_one('em').text"
   ]
  },
  {
   "cell_type": "code",
   "execution_count": 36,
   "metadata": {},
   "outputs": [],
   "source": [
    "# content selector\n",
    "content = selector.select_one('._3z6gI4oI6l').text"
   ]
  },
  {
   "cell_type": "code",
   "execution_count": 37,
   "metadata": {},
   "outputs": [],
   "source": [
    "#교수님이 작성해주신 코드 (담주에 다시 물어보기)\n",
    "\n",
    "#result_df = pd.DataFrame([{\n",
    "#    'ID' : id,\n",
    "#    'RATE' : rate,\n",
    "#    'CREATED': created,\n",
    "#    'REVIEW': content\n",
    "#}\n",
    "#    for selector in soup.select(good)\n",
    "#])"
   ]
  },
  {
   "cell_type": "code",
   "execution_count": 38,
   "metadata": {},
   "outputs": [],
   "source": [
    "for page in range(1, page_no):\n",
    "    # 페이지 로드 대기\n",
    "    WebDriverWait(driver, 10).until(\n",
    "        EC.presence_of_element_located((By.CSS_SELECTOR, '#REVIEW'))\n",
    "    )\n",
    "\n",
    "    time.sleep(3)\n",
    "\n",
    "    # 현재 페이지의 HTML 가져오기\n",
    "    html = driver.page_source\n",
    "    soup = BeautifulSoup(html, 'html.parser')\n",
    "\n",
    "    # 리뷰 데이터 수집\n",
    "    good = '#REVIEW div._1McWUwk15j'\n",
    "    for selector in soup.select(good):\n",
    "        id_selector = selector.select_one('strong._2L3vDiadT9').text\n",
    "        created_selector = parser.parse(selector.select_one('span._2L3vDiadT9').text)\n",
    "        rate_selector = selector.select_one('em').text\n",
    "        content_selector = selector.select_one('._3z6gI4oI6l').text\n",
    "\n",
    "        # 각 리뷰 정보를 딕셔너리로 저장\n",
    "        data.append({\n",
    "            'ID': id_selector,\n",
    "            'RATE': rate_selector,\n",
    "            'CREATED': created_selector,\n",
    "            'REVIEW': content_selector\n",
    "        })\n",
    "\n",
    "    # 다음 페이지 버튼 클릭\n",
    "    if page < (page_no+1):  # 마지막 페이지에서는 다음 페이지 버튼 클릭을 시도하지 않음\n",
    "        next_page_element = driver.find_element(By.CSS_SELECTOR, f'#REVIEW  a[data-shp-contents-id=\"{page + 1}\"]')\n",
    "        driver.execute_script(\"arguments[0].click();\", next_page_element)"
   ]
  },
  {
   "cell_type": "code",
   "execution_count": 39,
   "metadata": {},
   "outputs": [],
   "source": [
    "result_df = pd.DataFrame(data)\n",
    "result_df['CREATED'] = result_df['CREATED'].apply(lambda x: f\"{x.day:02d}-{x.month:02d}-{str(x.year)[2:]}\")"
   ]
  },
  {
   "cell_type": "code",
   "execution_count": 40,
   "metadata": {},
   "outputs": [],
   "source": [
    "driver.close()\n",
    "driver.quit()"
   ]
  },
  {
   "cell_type": "code",
   "execution_count": 46,
   "metadata": {},
   "outputs": [],
   "source": [
    "file_name = selector_title.text[:3]"
   ]
  },
  {
   "cell_type": "code",
   "execution_count": 48,
   "metadata": {},
   "outputs": [],
   "source": [
    "result_df.to_csv(rf'..\\data\\{file_name}_reviews.csv', index=False, encoding='utf-8-sig')"
   ]
  }
 ],
 "metadata": {
  "kernelspec": {
   "display_name": "llm",
   "language": "python",
   "name": "python3"
  },
  "language_info": {
   "codemirror_mode": {
    "name": "ipython",
    "version": 3
   },
   "file_extension": ".py",
   "mimetype": "text/x-python",
   "name": "python",
   "nbconvert_exporter": "python",
   "pygments_lexer": "ipython3",
   "version": "3.12.4"
  }
 },
 "nbformat": 4,
 "nbformat_minor": 2
}
