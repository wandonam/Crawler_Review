{
 "cells": [
  {
   "cell_type": "markdown",
   "metadata": {},
   "source": [
    "### <mark>**✅Crawling_Coupang**"
   ]
  },
  {
   "cell_type": "markdown",
   "metadata": {},
   "source": [
    "##### **Library**"
   ]
  },
  {
   "cell_type": "code",
   "execution_count": 35,
   "metadata": {},
   "outputs": [],
   "source": [
    "# selenium import\n",
    "from selenium import webdriver\n",
    "from selenium.webdriver.common.by import By\n",
    "from selenium.webdriver.chrome.service import Service\n",
    "from selenium.webdriver.support.ui import WebDriverWait\n",
    "from selenium.webdriver.support import expected_conditions as EC\n",
    "\n",
    "# library import\n",
    "from bs4 import BeautifulSoup\n",
    "from dateutil import parser\n",
    "import time\n",
    "import pandas as pd\n",
    "import platform\n",
    "import os\n",
    "from time import sleep\n",
    "from glob import glob\n",
    "from tqdm import tqdm\n",
    "from datetime import datetime\n",
    "import pyautogui as pg"
   ]
  },
  {
   "cell_type": "markdown",
   "metadata": {},
   "source": [
    "##### **Accept**"
   ]
  },
  {
   "cell_type": "code",
   "execution_count": 36,
   "metadata": {},
   "outputs": [],
   "source": [
    "os_name = platform.system().lower()\n",
    "architecture = platform.machine()\n",
    "\n",
    "driver_path = None\n",
    "if os_name == 'darwin':\n",
    "    driver_path = glob('../driver/**/chromedriver', recursive=True)[0]\n",
    "else:\n",
    "    driver_path = glob('../driver/**/chromedriver.exe', recursive=True)[0]"
   ]
  },
  {
   "cell_type": "code",
   "execution_count": 37,
   "metadata": {},
   "outputs": [],
   "source": [
    "# 드라이버 파일의 권한을 확인하고 수정\n",
    "if os_name == 'darwin':  # 맥 사용자\n",
    "    driver_permissions = os.stat(driver_path).st_mode\n",
    "    if not (driver_permissions & 0o100):  # 실행 권한 확인\n",
    "        os.chmod(driver_path, driver_permissions | 0o111)  # 실행 권한 추가\n",
    "else:  # 윈도우 사용자\n",
    "    driver_permissions = os.stat(driver_path).st_mode\n",
    "    if not (driver_permissions & 0o100):  # 실행 권한 확인\n",
    "        os.chmod(driver_path, driver_permissions | 0o111)  # 실행 권한 추가"
   ]
  },
  {
   "cell_type": "markdown",
   "metadata": {},
   "source": [
    "##### **Chrome Options**"
   ]
  },
  {
   "cell_type": "code",
   "execution_count": 38,
   "metadata": {},
   "outputs": [],
   "source": [
    "service = Service(executable_path=driver_path)\n",
    "chrome_options =  webdriver.ChromeOptions()\n",
    "#chrome_options.add_argument('--headless')\n",
    "chrome_options.add_argument('--disable-gpu')\n",
    "chrome_options.add_argument('--disable-dev-shm-usage')\n",
    "chrome_options.add_argument('--no-sandbox')\n",
    "chrome_options.add_argument('--blink-settings=imagesEnabled=false')\n",
    "chrome_options.add_argument('--disable-blink-features=AutomationControlled')"
   ]
  },
  {
   "cell_type": "markdown",
   "metadata": {},
   "source": [
    "##### **Define**"
   ]
  },
  {
   "cell_type": "code",
   "execution_count": 39,
   "metadata": {},
   "outputs": [],
   "source": [
    "url = 'https://www.coupang.com/vp/products/8251537122?itemId=23851611505&vendorItemId=90970360960'"
   ]
  },
  {
   "cell_type": "code",
   "execution_count": 40,
   "metadata": {},
   "outputs": [],
   "source": [
    "# Web OPEN\n",
    "driver = webdriver.Chrome(service=service, options=chrome_options)\n",
    "driver.get(url)\n",
    "time.sleep(3)"
   ]
  },
  {
   "cell_type": "code",
   "execution_count": 41,
   "metadata": {},
   "outputs": [],
   "source": [
    "# Web ZOOM\n",
    "driver.execute_script(\"document.body.style.zoom='10%'\")\n",
    "# Web Height\n",
    "last_height = driver.execute_script(\"return document.body.scrollHeight\")\n",
    "\n",
    "# Page Loading\n",
    "\n",
    "while True:\n",
    "    # 끝까지 스크롤 다운\n",
    "    driver.execute_script(\"window.scrollTo(0, document.body.scrollHeight);\")\n",
    "\n",
    "    # 1초 대기\n",
    "    time.sleep(1)\n",
    "\n",
    "    # 스크롤 다운 후 스크롤 높이 다시 가져옴\n",
    "    new_height = driver.execute_script(\"return document.body.scrollHeight\")\n",
    "    if new_height == last_height:\n",
    "        break\n",
    "    last_height = new_height"
   ]
  },
  {
   "cell_type": "code",
   "execution_count": 25,
   "metadata": {},
   "outputs": [],
   "source": [
    "# Parsing\n",
    "soup = BeautifulSoup(driver.page_source, 'html.parser')\n",
    "data = []"
   ]
  },
  {
   "cell_type": "code",
   "execution_count": 42,
   "metadata": {},
   "outputs": [],
   "source": [
    "review = '#btfTab > ul.tab-contents > li.product-review.tab-contents__content > div > div.sdp-review__article.js_reviewArticleContainer > section.js_reviewArticleListContainer'\n",
    "count = (soup.select_one('#btfTab > ul.tab-contents > li.product-review.tab-contents__content > div > div.sdp-review__average.js_reviewAverageContainer > section.sdp-review__average__total-star > div.sdp-review__average__total-star__info > div.sdp-review__average__total-star__info-count').text)\n",
    "selector_title = '#contents > div.prod-atf > div.prod-atf-main > div.prod-buy.new-oos-style.not-loyalty-member.eligible-address.without-subscribe-buy-type.DISPLAY_0.fix-verdor-section-display.prod-buy-alias.update-price-section-style-with-rds > div.prod-buy-header > h1'"
   ]
  },
  {
   "cell_type": "code",
   "execution_count": 43,
   "metadata": {},
   "outputs": [],
   "source": [
    "# Count page\n",
    "page_int = int(count.replace(',', ''))\n",
    "\n",
    "def calculate_page_no(page_int):\n",
    "    page_no = page_int // 5 if page_int % 5 == 0 else page_int // 5 + 1\n",
    "    return page_no\n",
    "\n",
    "page_no = calculate_page_no(page_int)"
   ]
  },
  {
   "cell_type": "markdown",
   "metadata": {},
   "source": [
    "##### **Crawling**"
   ]
  },
  {
   "cell_type": "code",
   "execution_count": 45,
   "metadata": {},
   "outputs": [
    {
     "name": "stderr",
     "output_type": "stream",
     "text": [
      "                                                             \r"
     ]
    },
    {
     "ename": "UnexpectedAlertPresentException",
     "evalue": "Alert Text: 서버에서 오류가 발생하였습니다.\nMessage: unexpected alert open: {Alert text : 서버에서 오류가 발생하였습니다.}\n  (Session info: chrome=134.0.6998.36)\nStacktrace:\n\tGetHandleVerifier [0x00007FF6CE81DF85+26693]\n\t(No symbol) [0x00007FF6CE77EAD0]\n\t(No symbol) [0x00007FF6CE6091CA]\n\t(No symbol) [0x00007FF6CE6B0D44]\n\t(No symbol) [0x00007FF6CE6876C3]\n\t(No symbol) [0x00007FF6CE650490]\n\t(No symbol) [0x00007FF6CE651743]\n\tGetHandleVerifier [0x00007FF6CEB7436D+3525677]\n\tGetHandleVerifier [0x00007FF6CEB87F3B+3606523]\n\tGetHandleVerifier [0x00007FF6CEB7CEE3+3561379]\n\tGetHandleVerifier [0x00007FF6CE8E7C0A+853194]\n\t(No symbol) [0x00007FF6CE78990F]\n\t(No symbol) [0x00007FF6CE785674]\n\t(No symbol) [0x00007FF6CE785816]\n\t(No symbol) [0x00007FF6CE774D89]\n\tBaseThreadInitThunk [0x00007FFBEB1EE8D7+23]\n\tRtlUserThreadStart [0x00007FFBECC7BF6C+44]\n",
     "output_type": "error",
     "traceback": [
      "\u001b[1;31m---------------------------------------------------------------------------\u001b[0m",
      "\u001b[1;31mUnexpectedAlertPresentException\u001b[0m           Traceback (most recent call last)",
      "Cell \u001b[1;32mIn[45], line 2\u001b[0m\n\u001b[0;32m      1\u001b[0m \u001b[38;5;28;01mfor\u001b[39;00m page \u001b[38;5;129;01min\u001b[39;00m tqdm(\u001b[38;5;28mrange\u001b[39m(\u001b[38;5;241m1\u001b[39m, page_no \u001b[38;5;241m+\u001b[39m \u001b[38;5;241m1\u001b[39m), desc\u001b[38;5;241m=\u001b[39m\u001b[38;5;124m\"\u001b[39m\u001b[38;5;124m현재 페이지\u001b[39m\u001b[38;5;124m\"\u001b[39m, unit\u001b[38;5;241m=\u001b[39m\u001b[38;5;124m\"\u001b[39m\u001b[38;5;124mpage\u001b[39m\u001b[38;5;124m\"\u001b[39m, leave\u001b[38;5;241m=\u001b[39m\u001b[38;5;28;01mFalse\u001b[39;00m):\n\u001b[1;32m----> 2\u001b[0m     \u001b[43mWebDriverWait\u001b[49m\u001b[43m(\u001b[49m\u001b[43mdriver\u001b[49m\u001b[43m,\u001b[49m\u001b[43m \u001b[49m\u001b[38;5;241;43m20\u001b[39;49m\u001b[43m)\u001b[49m\u001b[38;5;241;43m.\u001b[39;49m\u001b[43muntil\u001b[49m\u001b[43m(\u001b[49m\n\u001b[0;32m      3\u001b[0m \u001b[43m        \u001b[49m\u001b[43mEC\u001b[49m\u001b[38;5;241;43m.\u001b[39;49m\u001b[43mpresence_of_all_elements_located\u001b[49m\u001b[43m(\u001b[49m\u001b[43m(\u001b[49m\u001b[43mBy\u001b[49m\u001b[38;5;241;43m.\u001b[39;49m\u001b[43mCSS_SELECTOR\u001b[49m\u001b[43m,\u001b[49m\u001b[43m \u001b[49m\u001b[43mreview\u001b[49m\u001b[43m)\u001b[49m\u001b[43m)\u001b[49m\n\u001b[0;32m      4\u001b[0m \u001b[43m    \u001b[49m\u001b[43m)\u001b[49m\n\u001b[0;32m      6\u001b[0m     time\u001b[38;5;241m.\u001b[39msleep(\u001b[38;5;241m1\u001b[39m)\n\u001b[0;32m      8\u001b[0m     html \u001b[38;5;241m=\u001b[39m driver\u001b[38;5;241m.\u001b[39mpage_source\n",
      "File \u001b[1;32mc:\\Users\\user\\AppData\\Local\\Programs\\Python\\Python312\\Lib\\site-packages\\selenium\\webdriver\\support\\wait.py:96\u001b[0m, in \u001b[0;36mWebDriverWait.until\u001b[1;34m(self, method, message)\u001b[0m\n\u001b[0;32m     94\u001b[0m \u001b[38;5;28;01mwhile\u001b[39;00m \u001b[38;5;28;01mTrue\u001b[39;00m:\n\u001b[0;32m     95\u001b[0m     \u001b[38;5;28;01mtry\u001b[39;00m:\n\u001b[1;32m---> 96\u001b[0m         value \u001b[38;5;241m=\u001b[39m \u001b[43mmethod\u001b[49m\u001b[43m(\u001b[49m\u001b[38;5;28;43mself\u001b[39;49m\u001b[38;5;241;43m.\u001b[39;49m\u001b[43m_driver\u001b[49m\u001b[43m)\u001b[49m\n\u001b[0;32m     97\u001b[0m         \u001b[38;5;28;01mif\u001b[39;00m value:\n\u001b[0;32m     98\u001b[0m             \u001b[38;5;28;01mreturn\u001b[39;00m value\n",
      "File \u001b[1;32mc:\\Users\\user\\AppData\\Local\\Programs\\Python\\Python312\\Lib\\site-packages\\selenium\\webdriver\\support\\expected_conditions.py:191\u001b[0m, in \u001b[0;36mpresence_of_all_elements_located.<locals>._predicate\u001b[1;34m(driver)\u001b[0m\n\u001b[0;32m    190\u001b[0m \u001b[38;5;28;01mdef\u001b[39;00m \u001b[38;5;21m_predicate\u001b[39m(driver: WebDriverOrWebElement):\n\u001b[1;32m--> 191\u001b[0m     \u001b[38;5;28;01mreturn\u001b[39;00m \u001b[43mdriver\u001b[49m\u001b[38;5;241;43m.\u001b[39;49m\u001b[43mfind_elements\u001b[49m\u001b[43m(\u001b[49m\u001b[38;5;241;43m*\u001b[39;49m\u001b[43mlocator\u001b[49m\u001b[43m)\u001b[49m\n",
      "File \u001b[1;32mc:\\Users\\user\\AppData\\Local\\Programs\\Python\\Python312\\Lib\\site-packages\\selenium\\webdriver\\remote\\webdriver.py:778\u001b[0m, in \u001b[0;36mWebDriver.find_elements\u001b[1;34m(self, by, value)\u001b[0m\n\u001b[0;32m    774\u001b[0m     value \u001b[38;5;241m=\u001b[39m \u001b[38;5;124mf\u001b[39m\u001b[38;5;124m'\u001b[39m\u001b[38;5;124m[name=\u001b[39m\u001b[38;5;124m\"\u001b[39m\u001b[38;5;132;01m{\u001b[39;00mvalue\u001b[38;5;132;01m}\u001b[39;00m\u001b[38;5;124m\"\u001b[39m\u001b[38;5;124m]\u001b[39m\u001b[38;5;124m'\u001b[39m\n\u001b[0;32m    776\u001b[0m \u001b[38;5;66;03m# Return empty list if driver returns null\u001b[39;00m\n\u001b[0;32m    777\u001b[0m \u001b[38;5;66;03m# See https://github.com/SeleniumHQ/selenium/issues/4555\u001b[39;00m\n\u001b[1;32m--> 778\u001b[0m \u001b[38;5;28;01mreturn\u001b[39;00m \u001b[38;5;28;43mself\u001b[39;49m\u001b[38;5;241;43m.\u001b[39;49m\u001b[43mexecute\u001b[49m\u001b[43m(\u001b[49m\u001b[43mCommand\u001b[49m\u001b[38;5;241;43m.\u001b[39;49m\u001b[43mFIND_ELEMENTS\u001b[49m\u001b[43m,\u001b[49m\u001b[43m \u001b[49m\u001b[43m{\u001b[49m\u001b[38;5;124;43m\"\u001b[39;49m\u001b[38;5;124;43musing\u001b[39;49m\u001b[38;5;124;43m\"\u001b[39;49m\u001b[43m:\u001b[49m\u001b[43m \u001b[49m\u001b[43mby\u001b[49m\u001b[43m,\u001b[49m\u001b[43m \u001b[49m\u001b[38;5;124;43m\"\u001b[39;49m\u001b[38;5;124;43mvalue\u001b[39;49m\u001b[38;5;124;43m\"\u001b[39;49m\u001b[43m:\u001b[49m\u001b[43m \u001b[49m\u001b[43mvalue\u001b[49m\u001b[43m}\u001b[49m\u001b[43m)\u001b[49m[\u001b[38;5;124m\"\u001b[39m\u001b[38;5;124mvalue\u001b[39m\u001b[38;5;124m\"\u001b[39m] \u001b[38;5;129;01mor\u001b[39;00m []\n",
      "File \u001b[1;32mc:\\Users\\user\\AppData\\Local\\Programs\\Python\\Python312\\Lib\\site-packages\\selenium\\webdriver\\remote\\webdriver.py:354\u001b[0m, in \u001b[0;36mWebDriver.execute\u001b[1;34m(self, driver_command, params)\u001b[0m\n\u001b[0;32m    352\u001b[0m response \u001b[38;5;241m=\u001b[39m \u001b[38;5;28mself\u001b[39m\u001b[38;5;241m.\u001b[39mcommand_executor\u001b[38;5;241m.\u001b[39mexecute(driver_command, params)\n\u001b[0;32m    353\u001b[0m \u001b[38;5;28;01mif\u001b[39;00m response:\n\u001b[1;32m--> 354\u001b[0m     \u001b[38;5;28;43mself\u001b[39;49m\u001b[38;5;241;43m.\u001b[39;49m\u001b[43merror_handler\u001b[49m\u001b[38;5;241;43m.\u001b[39;49m\u001b[43mcheck_response\u001b[49m\u001b[43m(\u001b[49m\u001b[43mresponse\u001b[49m\u001b[43m)\u001b[49m\n\u001b[0;32m    355\u001b[0m     response[\u001b[38;5;124m\"\u001b[39m\u001b[38;5;124mvalue\u001b[39m\u001b[38;5;124m\"\u001b[39m] \u001b[38;5;241m=\u001b[39m \u001b[38;5;28mself\u001b[39m\u001b[38;5;241m.\u001b[39m_unwrap_value(response\u001b[38;5;241m.\u001b[39mget(\u001b[38;5;124m\"\u001b[39m\u001b[38;5;124mvalue\u001b[39m\u001b[38;5;124m\"\u001b[39m, \u001b[38;5;28;01mNone\u001b[39;00m))\n\u001b[0;32m    356\u001b[0m     \u001b[38;5;28;01mreturn\u001b[39;00m response\n",
      "File \u001b[1;32mc:\\Users\\user\\AppData\\Local\\Programs\\Python\\Python312\\Lib\\site-packages\\selenium\\webdriver\\remote\\errorhandler.py:228\u001b[0m, in \u001b[0;36mErrorHandler.check_response\u001b[1;34m(self, response)\u001b[0m\n\u001b[0;32m    226\u001b[0m     \u001b[38;5;28;01melif\u001b[39;00m \u001b[38;5;124m\"\u001b[39m\u001b[38;5;124malert\u001b[39m\u001b[38;5;124m\"\u001b[39m \u001b[38;5;129;01min\u001b[39;00m value:\n\u001b[0;32m    227\u001b[0m         alert_text \u001b[38;5;241m=\u001b[39m value[\u001b[38;5;124m\"\u001b[39m\u001b[38;5;124malert\u001b[39m\u001b[38;5;124m\"\u001b[39m]\u001b[38;5;241m.\u001b[39mget(\u001b[38;5;124m\"\u001b[39m\u001b[38;5;124mtext\u001b[39m\u001b[38;5;124m\"\u001b[39m)\n\u001b[1;32m--> 228\u001b[0m     \u001b[38;5;28;01mraise\u001b[39;00m exception_class(message, screen, stacktrace, alert_text)  \u001b[38;5;66;03m# type: ignore[call-arg]  # mypy is not smart enough here\u001b[39;00m\n\u001b[0;32m    229\u001b[0m \u001b[38;5;28;01mraise\u001b[39;00m exception_class(message, screen, stacktrace)\n",
      "\u001b[1;31mUnexpectedAlertPresentException\u001b[0m: Alert Text: 서버에서 오류가 발생하였습니다.\nMessage: unexpected alert open: {Alert text : 서버에서 오류가 발생하였습니다.}\n  (Session info: chrome=134.0.6998.36)\nStacktrace:\n\tGetHandleVerifier [0x00007FF6CE81DF85+26693]\n\t(No symbol) [0x00007FF6CE77EAD0]\n\t(No symbol) [0x00007FF6CE6091CA]\n\t(No symbol) [0x00007FF6CE6B0D44]\n\t(No symbol) [0x00007FF6CE6876C3]\n\t(No symbol) [0x00007FF6CE650490]\n\t(No symbol) [0x00007FF6CE651743]\n\tGetHandleVerifier [0x00007FF6CEB7436D+3525677]\n\tGetHandleVerifier [0x00007FF6CEB87F3B+3606523]\n\tGetHandleVerifier [0x00007FF6CEB7CEE3+3561379]\n\tGetHandleVerifier [0x00007FF6CE8E7C0A+853194]\n\t(No symbol) [0x00007FF6CE78990F]\n\t(No symbol) [0x00007FF6CE785674]\n\t(No symbol) [0x00007FF6CE785816]\n\t(No symbol) [0x00007FF6CE774D89]\n\tBaseThreadInitThunk [0x00007FFBEB1EE8D7+23]\n\tRtlUserThreadStart [0x00007FFBECC7BF6C+44]\n"
     ]
    }
   ],
   "source": [
    "for page in tqdm(range(1, page_no + 1), desc=\"현재 페이지\", unit=\"page\", leave=False):\n",
    "    WebDriverWait(driver, 20).until(\n",
    "        EC.presence_of_all_elements_located((By.CSS_SELECTOR, review))\n",
    "    )\n",
    "    \n",
    "    time.sleep(1)\n",
    "\n",
    "    html = driver.page_source\n",
    "    soup = BeautifulSoup(html, 'html.parser')\n",
    "\n",
    "    empty_review_count = 0\n",
    "\n",
    "    review_articles = soup.select(f\"{review} article\")\n",
    "\n",
    "    for article in review_articles:\n",
    "        try:\n",
    "            id_selector = article.select_one('div.sdp-review__article__list__info > div.sdp-review__article__list__info__user > span')\n",
    "            user_id = id_selector.get_text(strip=True) if id_selector else \"N/A\"\n",
    "\n",
    "            created_selector = article.select_one('div.sdp-review__article__list__info > div.sdp-review__article__list__info__product-info > div.sdp-review__article__list__info__product-info__reg-date')\n",
    "            created_at = parser.parse(created_selector.get_text(strip=True)) if created_selector else 'N/A'\n",
    "\n",
    "            option_selector = article.select_one('div.sdp-review__article__list__info > div.sdp-review__article__list__info__product-info__name')\n",
    "            option_text = option_selector.get_text(strip=True) if option_selector else None\n",
    "\n",
    "            content_selector = article.select_one('div.sdp-review__article__list__review.js_reviewArticleContentContainer > div')\n",
    "            review_text = content_selector.get_text(strip=True) if content_selector else None\n",
    "\n",
    "            if review_text is None:\n",
    "                empty_review_count += 1\n",
    "                continue\n",
    "\n",
    "            data.append({\n",
    "                \"ID\": user_id,\n",
    "                \"CREATED\": created_at,\n",
    "                \"OPTION\": option_text,\n",
    "                \"REVIEW\": review_text\n",
    "            })\n",
    "        except Exception as e:\n",
    "            print(f\"Error processing review: {e}\")\n",
    "\n",
    "    if empty_review_count == len(review_articles):\n",
    "        break\n",
    "\n",
    "    if page < page_no:\n",
    "        try:\n",
    "            page_number = (page % 9) + 3  # 3~11까지 반복됨\n",
    "            next_page_selector = f\"#btfTab > ul.tab-contents > li.product-review.tab-contents__content > div > div.sdp-review__article.js_reviewArticleContainer > section.js_reviewArticleListContainer > div.sdp-review__article__page.js_reviewArticlePagingContainer > button:nth-child({page_number})\"\n",
    "            \n",
    "            # 페이지 번호 버튼이 있는 경우 클릭\n",
    "            next_page_elements = driver.find_elements(By.CSS_SELECTOR, next_page_selector)\n",
    "            if next_page_elements:\n",
    "                driver.execute_script(\"arguments[0].click();\", next_page_elements[0])\n",
    "                time.sleep(3)  # 페이지 로딩 대기\n",
    "            else:\n",
    "                # 마지막 \"다음\" 버튼 클릭 시도\n",
    "                next_button = driver.find_elements(By.CSS_SELECTOR, \".js_reviewArticlePageNextBtn\")\n",
    "                if next_button:\n",
    "                    driver.execute_script(\"arguments[0].click();\", next_button[0])\n",
    "                    time.sleep(3)  # 페이지 로딩 대기\n",
    "                else:\n",
    "                    print(f\"페이지 {page}에서 '다음' 버튼을 찾을 수 없음. 크롤링 종료.\")\n",
    "                    break\n",
    "        except Exception as e:\n",
    "            print(f\"Error clicking next page: {e}\")\n",
    "            break\n"
   ]
  },
  {
   "cell_type": "markdown",
   "metadata": {},
   "source": [
    "##### **To CSV**"
   ]
  },
  {
   "cell_type": "code",
   "execution_count": 31,
   "metadata": {},
   "outputs": [],
   "source": [
    "result_df = pd.DataFrame(data)\n",
    "result_df['CREATED'] = result_df['CREATED'].apply(lambda x: f\"{x.day:02d}-{x.month:02d}-{str(x.year)[2:]}\")"
   ]
  },
  {
   "cell_type": "code",
   "execution_count": 46,
   "metadata": {},
   "outputs": [
    {
     "ename": "InvalidSessionIdException",
     "evalue": "Message: invalid session id: session deleted as the browser has closed the connection\nfrom disconnected: Unable to receive message from renderer\n  (Session info: chrome=134.0.6998.36)\nStacktrace:\n\tGetHandleVerifier [0x00007FF6CE81DF85+26693]\n\t(No symbol) [0x00007FF6CE77EAD0]\n\t(No symbol) [0x00007FF6CE6091CA]\n\t(No symbol) [0x00007FF6CE5F667C]\n\t(No symbol) [0x00007FF6CE5F3EF2]\n\t(No symbol) [0x00007FF6CE5F49BF]\n\t(No symbol) [0x00007FF6CE609C1F]\n\t(No symbol) [0x00007FF6CE5E115D]\n\t(No symbol) [0x00007FF6CE699E48]\n\t(No symbol) [0x00007FF6CE6993F2]\n\t(No symbol) [0x00007FF6CE6878B0]\n\t(No symbol) [0x00007FF6CE650490]\n\t(No symbol) [0x00007FF6CE651743]\n\tGetHandleVerifier [0x00007FF6CEB7436D+3525677]\n\tGetHandleVerifier [0x00007FF6CEB87F3B+3606523]\n\tGetHandleVerifier [0x00007FF6CEB7CEE3+3561379]\n\tGetHandleVerifier [0x00007FF6CE8E7C0A+853194]\n\t(No symbol) [0x00007FF6CE78990F]\n\t(No symbol) [0x00007FF6CE785674]\n\t(No symbol) [0x00007FF6CE785816]\n\t(No symbol) [0x00007FF6CE774D89]\n\tBaseThreadInitThunk [0x00007FFBEB1EE8D7+23]\n\tRtlUserThreadStart [0x00007FFBECC7BF6C+44]\n",
     "output_type": "error",
     "traceback": [
      "\u001b[1;31m---------------------------------------------------------------------------\u001b[0m",
      "\u001b[1;31mInvalidSessionIdException\u001b[0m                 Traceback (most recent call last)",
      "Cell \u001b[1;32mIn[46], line 1\u001b[0m\n\u001b[1;32m----> 1\u001b[0m \u001b[43mdriver\u001b[49m\u001b[38;5;241;43m.\u001b[39;49m\u001b[43mclose\u001b[49m\u001b[43m(\u001b[49m\u001b[43m)\u001b[49m\n\u001b[0;32m      2\u001b[0m driver\u001b[38;5;241m.\u001b[39mquit()\n",
      "File \u001b[1;32mc:\\Users\\user\\AppData\\Local\\Programs\\Python\\Python312\\Lib\\site-packages\\selenium\\webdriver\\remote\\webdriver.py:465\u001b[0m, in \u001b[0;36mWebDriver.close\u001b[1;34m(self)\u001b[0m\n\u001b[0;32m    457\u001b[0m \u001b[38;5;28;01mdef\u001b[39;00m \u001b[38;5;21mclose\u001b[39m(\u001b[38;5;28mself\u001b[39m) \u001b[38;5;241m-\u001b[39m\u001b[38;5;241m>\u001b[39m \u001b[38;5;28;01mNone\u001b[39;00m:\n\u001b[0;32m    458\u001b[0m \u001b[38;5;250m    \u001b[39m\u001b[38;5;124;03m\"\"\"Closes the current window.\u001b[39;00m\n\u001b[0;32m    459\u001b[0m \n\u001b[0;32m    460\u001b[0m \u001b[38;5;124;03m    :Usage:\u001b[39;00m\n\u001b[1;32m   (...)\u001b[0m\n\u001b[0;32m    463\u001b[0m \u001b[38;5;124;03m            driver.close()\u001b[39;00m\n\u001b[0;32m    464\u001b[0m \u001b[38;5;124;03m    \"\"\"\u001b[39;00m\n\u001b[1;32m--> 465\u001b[0m     \u001b[38;5;28;43mself\u001b[39;49m\u001b[38;5;241;43m.\u001b[39;49m\u001b[43mexecute\u001b[49m\u001b[43m(\u001b[49m\u001b[43mCommand\u001b[49m\u001b[38;5;241;43m.\u001b[39;49m\u001b[43mCLOSE\u001b[49m\u001b[43m)\u001b[49m\n",
      "File \u001b[1;32mc:\\Users\\user\\AppData\\Local\\Programs\\Python\\Python312\\Lib\\site-packages\\selenium\\webdriver\\remote\\webdriver.py:354\u001b[0m, in \u001b[0;36mWebDriver.execute\u001b[1;34m(self, driver_command, params)\u001b[0m\n\u001b[0;32m    352\u001b[0m response \u001b[38;5;241m=\u001b[39m \u001b[38;5;28mself\u001b[39m\u001b[38;5;241m.\u001b[39mcommand_executor\u001b[38;5;241m.\u001b[39mexecute(driver_command, params)\n\u001b[0;32m    353\u001b[0m \u001b[38;5;28;01mif\u001b[39;00m response:\n\u001b[1;32m--> 354\u001b[0m     \u001b[38;5;28;43mself\u001b[39;49m\u001b[38;5;241;43m.\u001b[39;49m\u001b[43merror_handler\u001b[49m\u001b[38;5;241;43m.\u001b[39;49m\u001b[43mcheck_response\u001b[49m\u001b[43m(\u001b[49m\u001b[43mresponse\u001b[49m\u001b[43m)\u001b[49m\n\u001b[0;32m    355\u001b[0m     response[\u001b[38;5;124m\"\u001b[39m\u001b[38;5;124mvalue\u001b[39m\u001b[38;5;124m\"\u001b[39m] \u001b[38;5;241m=\u001b[39m \u001b[38;5;28mself\u001b[39m\u001b[38;5;241m.\u001b[39m_unwrap_value(response\u001b[38;5;241m.\u001b[39mget(\u001b[38;5;124m\"\u001b[39m\u001b[38;5;124mvalue\u001b[39m\u001b[38;5;124m\"\u001b[39m, \u001b[38;5;28;01mNone\u001b[39;00m))\n\u001b[0;32m    356\u001b[0m     \u001b[38;5;28;01mreturn\u001b[39;00m response\n",
      "File \u001b[1;32mc:\\Users\\user\\AppData\\Local\\Programs\\Python\\Python312\\Lib\\site-packages\\selenium\\webdriver\\remote\\errorhandler.py:229\u001b[0m, in \u001b[0;36mErrorHandler.check_response\u001b[1;34m(self, response)\u001b[0m\n\u001b[0;32m    227\u001b[0m         alert_text \u001b[38;5;241m=\u001b[39m value[\u001b[38;5;124m\"\u001b[39m\u001b[38;5;124malert\u001b[39m\u001b[38;5;124m\"\u001b[39m]\u001b[38;5;241m.\u001b[39mget(\u001b[38;5;124m\"\u001b[39m\u001b[38;5;124mtext\u001b[39m\u001b[38;5;124m\"\u001b[39m)\n\u001b[0;32m    228\u001b[0m     \u001b[38;5;28;01mraise\u001b[39;00m exception_class(message, screen, stacktrace, alert_text)  \u001b[38;5;66;03m# type: ignore[call-arg]  # mypy is not smart enough here\u001b[39;00m\n\u001b[1;32m--> 229\u001b[0m \u001b[38;5;28;01mraise\u001b[39;00m exception_class(message, screen, stacktrace)\n",
      "\u001b[1;31mInvalidSessionIdException\u001b[0m: Message: invalid session id: session deleted as the browser has closed the connection\nfrom disconnected: Unable to receive message from renderer\n  (Session info: chrome=134.0.6998.36)\nStacktrace:\n\tGetHandleVerifier [0x00007FF6CE81DF85+26693]\n\t(No symbol) [0x00007FF6CE77EAD0]\n\t(No symbol) [0x00007FF6CE6091CA]\n\t(No symbol) [0x00007FF6CE5F667C]\n\t(No symbol) [0x00007FF6CE5F3EF2]\n\t(No symbol) [0x00007FF6CE5F49BF]\n\t(No symbol) [0x00007FF6CE609C1F]\n\t(No symbol) [0x00007FF6CE5E115D]\n\t(No symbol) [0x00007FF6CE699E48]\n\t(No symbol) [0x00007FF6CE6993F2]\n\t(No symbol) [0x00007FF6CE6878B0]\n\t(No symbol) [0x00007FF6CE650490]\n\t(No symbol) [0x00007FF6CE651743]\n\tGetHandleVerifier [0x00007FF6CEB7436D+3525677]\n\tGetHandleVerifier [0x00007FF6CEB87F3B+3606523]\n\tGetHandleVerifier [0x00007FF6CEB7CEE3+3561379]\n\tGetHandleVerifier [0x00007FF6CE8E7C0A+853194]\n\t(No symbol) [0x00007FF6CE78990F]\n\t(No symbol) [0x00007FF6CE785674]\n\t(No symbol) [0x00007FF6CE785816]\n\t(No symbol) [0x00007FF6CE774D89]\n\tBaseThreadInitThunk [0x00007FFBEB1EE8D7+23]\n\tRtlUserThreadStart [0x00007FFBECC7BF6C+44]\n"
     ]
    }
   ],
   "source": [
    "driver.close()\n",
    "driver.quit()"
   ]
  },
  {
   "cell_type": "code",
   "execution_count": 40,
   "metadata": {},
   "outputs": [
    {
     "ename": "AttributeError",
     "evalue": "'NoneType' object has no attribute 'text'",
     "output_type": "error",
     "traceback": [
      "\u001b[1;31m---------------------------------------------------------------------------\u001b[0m",
      "\u001b[1;31mAttributeError\u001b[0m                            Traceback (most recent call last)",
      "Cell \u001b[1;32mIn[40], line 1\u001b[0m\n\u001b[1;32m----> 1\u001b[0m split_text \u001b[38;5;241m=\u001b[39m \u001b[43mselector_title\u001b[49m\u001b[38;5;241;43m.\u001b[39;49m\u001b[43mtext\u001b[49m\u001b[38;5;241m.\u001b[39msplit(\u001b[38;5;124m\"\u001b[39m\u001b[38;5;124m \u001b[39m\u001b[38;5;124m\"\u001b[39m)\n\u001b[0;32m      2\u001b[0m \u001b[38;5;28;01mif\u001b[39;00m \u001b[38;5;28mlen\u001b[39m(split_text) \u001b[38;5;241m>\u001b[39m\u001b[38;5;241m=\u001b[39m \u001b[38;5;241m3\u001b[39m:\n\u001b[0;32m      3\u001b[0m     file_name \u001b[38;5;241m=\u001b[39m \u001b[38;5;124m\"\u001b[39m\u001b[38;5;124m \u001b[39m\u001b[38;5;124m\"\u001b[39m\u001b[38;5;241m.\u001b[39mjoin(split_text[:\u001b[38;5;241m2\u001b[39m])\n",
      "\u001b[1;31mAttributeError\u001b[0m: 'NoneType' object has no attribute 'text'"
     ]
    }
   ],
   "source": [
    "split_text = selector_title.text.split(\" \")\n",
    "if len(split_text) >= 3:\n",
    "    file_name = \" \".join(split_text[:2])\n",
    "else:\n",
    "    file_name = selector_title.text"
   ]
  },
  {
   "cell_type": "code",
   "execution_count": 33,
   "metadata": {},
   "outputs": [],
   "source": [
    "today_str = datetime.today().strftime(\"%m%d\")"
   ]
  },
  {
   "cell_type": "code",
   "execution_count": 34,
   "metadata": {},
   "outputs": [],
   "source": [
    "result_df.to_csv(rf'..\\data\\review\\{today_str}_.csv', index=False, encoding='utf-8-sig')"
   ]
  }
 ],
 "metadata": {
  "kernelspec": {
   "display_name": "llm",
   "language": "python",
   "name": "python3"
  },
  "language_info": {
   "codemirror_mode": {
    "name": "ipython",
    "version": 3
   },
   "file_extension": ".py",
   "mimetype": "text/x-python",
   "name": "python",
   "nbconvert_exporter": "python",
   "pygments_lexer": "ipython3",
   "version": "3.12.4"
  }
 },
 "nbformat": 4,
 "nbformat_minor": 2
}
