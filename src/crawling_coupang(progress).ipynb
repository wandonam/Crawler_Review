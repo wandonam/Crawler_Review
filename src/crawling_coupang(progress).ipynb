{
 "cells": [
  {
   "cell_type": "markdown",
   "metadata": {},
   "source": [
    "### <mark>**✅Crawling_Coupang**"
   ]
  },
  {
   "cell_type": "markdown",
   "metadata": {},
   "source": [
    "##### **Library**"
   ]
  },
  {
   "cell_type": "code",
   "execution_count": 1,
   "metadata": {},
   "outputs": [],
   "source": [
    "# selenium import\n",
    "from selenium import webdriver\n",
    "from selenium.webdriver.common.by import By\n",
    "from selenium.webdriver.chrome.service import Service\n",
    "from selenium.webdriver.support.ui import WebDriverWait\n",
    "from selenium.webdriver.support import expected_conditions as EC\n",
    "from selenium.webdriver.chrome.options import Options\n",
    "from webdriver_manager.chrome import ChromeDriverManager\n",
    "from selenium_stealth import stealth\n",
    "\n",
    "# library import\n",
    "from bs4 import BeautifulSoup\n",
    "from dateutil import parser\n",
    "import time\n",
    "import pandas as pd\n",
    "import platform\n",
    "import os\n",
    "from time import sleep\n",
    "from glob import glob\n",
    "from tqdm import tqdm\n",
    "from datetime import datetime\n",
    "import pyautogui as pg"
   ]
  },
  {
   "cell_type": "markdown",
   "metadata": {},
   "source": [
    "##### **Accept**"
   ]
  },
  {
   "cell_type": "code",
   "execution_count": 2,
   "metadata": {},
   "outputs": [],
   "source": [
    "os_name = platform.system().lower()\n",
    "architecture = platform.machine()\n",
    "\n",
    "driver_path = None\n",
    "if os_name == 'darwin':\n",
    "    driver_path = glob('../driver/**/chromedriver', recursive=True)[0]\n",
    "else:\n",
    "    driver_path = glob('../driver/**/chromedriver.exe', recursive=True)[0]"
   ]
  },
  {
   "cell_type": "code",
   "execution_count": 3,
   "metadata": {},
   "outputs": [],
   "source": [
    "# 드라이버 파일의 권한을 확인하고 수정\n",
    "if os_name == 'darwin':  # 맥 사용자\n",
    "    driver_permissions = os.stat(driver_path).st_mode\n",
    "    if not (driver_permissions & 0o100):  # 실행 권한 확인\n",
    "        os.chmod(driver_path, driver_permissions | 0o111)  # 실행 권한 추가\n",
    "else:  # 윈도우 사용자\n",
    "    driver_permissions = os.stat(driver_path).st_mode\n",
    "    if not (driver_permissions & 0o100):  # 실행 권한 확인\n",
    "        os.chmod(driver_path, driver_permissions | 0o111)  # 실행 권한 추가"
   ]
  },
  {
   "cell_type": "markdown",
   "metadata": {},
   "source": [
    "##### **Chrome Options**"
   ]
  },
  {
   "cell_type": "code",
   "execution_count": 4,
   "metadata": {},
   "outputs": [],
   "source": [
    "service = Service(executable_path=driver_path)\n",
    "chrome_options =  webdriver.ChromeOptions()\n",
    "#chrome_options.add_argument('--headless')\n",
    "chrome_options.add_argument('--disable-gpu')\n",
    "chrome_options.add_argument('--disable-dev-shm-usage')\n",
    "#chrome_options.add_argument('--no-sandbox')\n",
    "chrome_options.add_argument('--blink-settings=imagesEnabled=false')\n",
    "chrome_options.add_argument('--disable-blink-features=AutomationControlled')\n",
    "chrome_options.add_argument('user-agent=Mozilla/5.0 (Windows NT 10.0; Win64; x64) AppleWebKit/537.36 (KHTML, like Gecko) Chrome/91.0.4472.124 Safari/537.36')"
   ]
  },
  {
   "cell_type": "markdown",
   "metadata": {},
   "source": [
    "##### **Define**"
   ]
  },
  {
   "cell_type": "code",
   "execution_count": 5,
   "metadata": {},
   "outputs": [],
   "source": [
    "url = 'https://www.coupang.com/vp/products/8251537122'"
   ]
  },
  {
   "cell_type": "code",
   "execution_count": 6,
   "metadata": {},
   "outputs": [],
   "source": [
    "# Web OPEN\n",
    "driver = webdriver.Chrome(service=service, options=chrome_options)\n",
    "stealth(driver,\n",
    "        languages=[\"ko-KR\", \"ko\"],\n",
    "        vendor=\"Google Inc.\",\n",
    "        platform=\"Win32\",\n",
    "        webgl_vendor=\"Intel Inc.\",\n",
    "        renderer=\"Intel Iris OpenGL Engine\",\n",
    "        fix_hairline=True,\n",
    "        )\n",
    "driver.get(url)\n",
    "time.sleep(3)"
   ]
  },
  {
   "cell_type": "code",
   "execution_count": 51,
   "metadata": {},
   "outputs": [
    {
     "data": {
      "text/plain": [
       "{'identifier': '2'}"
      ]
     },
     "execution_count": 51,
     "metadata": {},
     "output_type": "execute_result"
    }
   ],
   "source": [
    "driver.execute_cdp_cmd(\n",
    "    'Page.addScriptToEvaluateOnNewDocument', \n",
    "    {'source': \"\"\" Object.defineProperty(navigator, 'webdriver', { get: () => undefined }) \"\"\"}\n",
    ")"
   ]
  },
  {
   "cell_type": "code",
   "execution_count": null,
   "metadata": {},
   "outputs": [],
   "source": [
    "# Web ZOOM\n",
    "driver.execute_script(\"document.body.style.zoom='10%'\")\n",
    "# Web Height\n",
    "last_height = driver.execute_script(\"return document.body.scrollHeight\")\n",
    "\n",
    "# Page Loading\n",
    "\n",
    "while True:\n",
    "    # 끝까지 스크롤 다운\n",
    "    driver.execute_script(\"window.scrollTo(0, document.body.scrollHeight);\")\n",
    "\n",
    "    # 1초 대기\n",
    "    time.sleep(1)\n",
    "\n",
    "    # 스크롤 다운 후 스크롤 높이 다시 가져옴\n",
    "    new_height = driver.execute_script(\"return document.body.scrollHeight\")\n",
    "    if new_height == last_height:\n",
    "        break\n",
    "    last_height = new_height"
   ]
  },
  {
   "cell_type": "code",
   "execution_count": null,
   "metadata": {},
   "outputs": [],
   "source": [
    "# Parsing\n",
    "soup = BeautifulSoup(driver.page_source, 'html.parser')\n",
    "data = []"
   ]
  },
  {
   "cell_type": "code",
   "execution_count": null,
   "metadata": {},
   "outputs": [],
   "source": [
    "review = '#btfTab > ul.tab-contents > li.product-review.tab-contents__content > div > div.sdp-review__article.js_reviewArticleContainer > section.js_reviewArticleListContainer'\n",
    "count = (soup.select_one('#btfTab > ul.tab-contents > li.product-review.tab-contents__content > div > div.sdp-review__average.js_reviewAverageContainer > section.sdp-review__average__total-star > div.sdp-review__average__total-star__info > div.sdp-review__average__total-star__info-count').text)\n",
    "selector_title = '#contents > div.prod-atf > div.prod-atf-main > div.prod-buy.new-oos-style.not-loyalty-member.eligible-address.without-subscribe-buy-type.DISPLAY_0.fix-verdor-section-display.prod-buy-alias.update-price-section-style-with-rds > div.prod-buy-header > h1'"
   ]
  },
  {
   "cell_type": "code",
   "execution_count": null,
   "metadata": {},
   "outputs": [],
   "source": [
    "# Count page\n",
    "page_int = int(count.replace(',', ''))\n",
    "\n",
    "def calculate_page_no(page_int):\n",
    "    page_no = page_int // 5 if page_int % 5 == 0 else page_int // 5 + 1\n",
    "    return page_no\n",
    "\n",
    "page_no = calculate_page_no(page_int)"
   ]
  },
  {
   "cell_type": "markdown",
   "metadata": {},
   "source": [
    "##### **Crawling**"
   ]
  },
  {
   "cell_type": "code",
   "execution_count": null,
   "metadata": {},
   "outputs": [
    {
     "name": "stderr",
     "output_type": "stream",
     "text": [
      "                                                             \r"
     ]
    }
   ],
   "source": [
    "for page in tqdm(range(1, page_no + 1), desc=\"현재 페이지\", unit=\"page\", leave=False):\n",
    "    WebDriverWait(driver, 20).until(\n",
    "        EC.presence_of_all_elements_located((By.CSS_SELECTOR, review))\n",
    "    )\n",
    "    \n",
    "    time.sleep(1)\n",
    "\n",
    "    html = driver.page_source\n",
    "    soup = BeautifulSoup(html, 'html.parser')\n",
    "\n",
    "    empty_review_count = 0\n",
    "\n",
    "    review_articles = soup.select(f\"{review} article\")\n",
    "\n",
    "    for article in review_articles:\n",
    "        try:\n",
    "            id_selector = article.select_one('div.sdp-review__article__list__info > div.sdp-review__article__list__info__user > span')\n",
    "            user_id = id_selector.get_text(strip=True) if id_selector else \"N/A\"\n",
    "\n",
    "            created_selector = article.select_one('div.sdp-review__article__list__info > div.sdp-review__article__list__info__product-info > div.sdp-review__article__list__info__product-info__reg-date')\n",
    "            created_at = parser.parse(created_selector.get_text(strip=True)) if created_selector else 'N/A'\n",
    "\n",
    "            option_selector = article.select_one('div.sdp-review__article__list__info > div.sdp-review__article__list__info__product-info__name')\n",
    "            option_text = option_selector.get_text(strip=True) if option_selector else None\n",
    "\n",
    "            content_selector = article.select_one('div.sdp-review__article__list__review.js_reviewArticleContentContainer > div')\n",
    "            review_text = content_selector.get_text(strip=True) if content_selector else None\n",
    "\n",
    "            if review_text is None:\n",
    "                empty_review_count += 1\n",
    "                continue\n",
    "\n",
    "            data.append({\n",
    "                \"ID\": user_id,\n",
    "                \"CREATED\": created_at,\n",
    "                \"OPTION\": option_text,\n",
    "                \"REVIEW\": review_text\n",
    "            })\n",
    "        except Exception as e:\n",
    "            print(f\"Error processing review: {e}\")\n",
    "\n",
    "    if empty_review_count == len(review_articles):\n",
    "        break\n",
    "\n",
    "    if page < page_no:\n",
    "        try:\n",
    "            page_number = (page % 9) + 3  # 3~11까지 반복됨\n",
    "            next_page_selector = f\"#btfTab > ul.tab-contents > li.product-review.tab-contents__content > div > div.sdp-review__article.js_reviewArticleContainer > section.js_reviewArticleListContainer > div.sdp-review__article__page.js_reviewArticlePagingContainer > button:nth-child({page_number})\"\n",
    "            \n",
    "            # 페이지 번호 버튼이 있는 경우 클릭\n",
    "            next_page_elements = driver.find_elements(By.CSS_SELECTOR, next_page_selector)\n",
    "            if next_page_elements:\n",
    "                driver.execute_script(\"arguments[0].click();\", next_page_elements[0])\n",
    "                time.sleep(3)  # 페이지 로딩 대기\n",
    "            else:\n",
    "                # 마지막 \"다음\" 버튼 클릭 시도\n",
    "                next_button = driver.find_elements(By.CSS_SELECTOR, \".js_reviewArticlePageNextBtn\")\n",
    "                if next_button:\n",
    "                    driver.execute_script(\"arguments[0].click();\", next_button[0])\n",
    "                    time.sleep(3)  # 페이지 로딩 대기\n",
    "                else:\n",
    "                    print(f\"페이지 {page}에서 '다음' 버튼을 찾을 수 없음. 크롤링 종료.\")\n",
    "                    break\n",
    "        except Exception as e:\n",
    "            print(f\"Error clicking next page: {e}\")\n",
    "            break\n"
   ]
  },
  {
   "cell_type": "markdown",
   "metadata": {},
   "source": [
    "##### **To CSV**"
   ]
  },
  {
   "cell_type": "code",
   "execution_count": null,
   "metadata": {},
   "outputs": [],
   "source": [
    "result_df = pd.DataFrame(data)\n",
    "result_df['CREATED'] = result_df['CREATED'].apply(lambda x: f\"{x.day:02d}-{x.month:02d}-{str(x.year)[2:]}\")"
   ]
  },
  {
   "cell_type": "code",
   "execution_count": null,
   "metadata": {},
   "outputs": [],
   "source": [
    "driver.close()\n",
    "driver.quit()"
   ]
  },
  {
   "cell_type": "code",
   "execution_count": null,
   "metadata": {},
   "outputs": [
    {
     "ename": "AttributeError",
     "evalue": "'NoneType' object has no attribute 'text'",
     "output_type": "error",
     "traceback": [
      "\u001b[1;31m---------------------------------------------------------------------------\u001b[0m",
      "\u001b[1;31mAttributeError\u001b[0m                            Traceback (most recent call last)",
      "Cell \u001b[1;32mIn[40], line 1\u001b[0m\n\u001b[1;32m----> 1\u001b[0m split_text \u001b[38;5;241m=\u001b[39m \u001b[43mselector_title\u001b[49m\u001b[38;5;241;43m.\u001b[39;49m\u001b[43mtext\u001b[49m\u001b[38;5;241m.\u001b[39msplit(\u001b[38;5;124m\"\u001b[39m\u001b[38;5;124m \u001b[39m\u001b[38;5;124m\"\u001b[39m)\n\u001b[0;32m      2\u001b[0m \u001b[38;5;28;01mif\u001b[39;00m \u001b[38;5;28mlen\u001b[39m(split_text) \u001b[38;5;241m>\u001b[39m\u001b[38;5;241m=\u001b[39m \u001b[38;5;241m3\u001b[39m:\n\u001b[0;32m      3\u001b[0m     file_name \u001b[38;5;241m=\u001b[39m \u001b[38;5;124m\"\u001b[39m\u001b[38;5;124m \u001b[39m\u001b[38;5;124m\"\u001b[39m\u001b[38;5;241m.\u001b[39mjoin(split_text[:\u001b[38;5;241m2\u001b[39m])\n",
      "\u001b[1;31mAttributeError\u001b[0m: 'NoneType' object has no attribute 'text'"
     ]
    }
   ],
   "source": [
    "split_text = selector_title.text.split(\" \")\n",
    "if len(split_text) >= 3:\n",
    "    file_name = \" \".join(split_text[:2])\n",
    "else:\n",
    "    file_name = selector_title.text"
   ]
  },
  {
   "cell_type": "code",
   "execution_count": null,
   "metadata": {},
   "outputs": [],
   "source": [
    "today_str = datetime.today().strftime(\"%m%d\")"
   ]
  },
  {
   "cell_type": "code",
   "execution_count": null,
   "metadata": {},
   "outputs": [],
   "source": [
    "result_df.to_csv(rf'..\\data\\review\\{today_str}_.csv', index=False, encoding='utf-8-sig')"
   ]
  }
 ],
 "metadata": {
  "kernelspec": {
   "display_name": "llm",
   "language": "python",
   "name": "python3"
  },
  "language_info": {
   "codemirror_mode": {
    "name": "ipython",
    "version": 3
   },
   "file_extension": ".py",
   "mimetype": "text/x-python",
   "name": "python",
   "nbconvert_exporter": "python",
   "pygments_lexer": "ipython3",
   "version": "3.12.4"
  }
 },
 "nbformat": 4,
 "nbformat_minor": 2
}
