{
 "cells": [
  {
   "cell_type": "markdown",
   "metadata": {},
   "source": [
    "### <mark>**✅Crawling_Instagram**"
   ]
  },
  {
   "cell_type": "markdown",
   "metadata": {},
   "source": [
    "##### **Library**"
   ]
  },
  {
   "cell_type": "code",
   "execution_count": 60,
   "metadata": {},
   "outputs": [],
   "source": [
    "# selenium import\n",
    "from selenium import webdriver\n",
    "from selenium.webdriver.common.by import By\n",
    "from selenium.webdriver.chrome.service import Service\n",
    "from selenium.webdriver.support.ui import WebDriverWait\n",
    "from selenium.webdriver.support import expected_conditions as EC\n",
    "from selenium.webdriver.chrome.service import Service\n",
    "\n",
    "# library import\n",
    "from bs4 import BeautifulSoup\n",
    "from dateutil import parser\n",
    "import time\n",
    "import pandas as pd\n",
    "import platform\n",
    "import os\n",
    "from time import sleep\n",
    "from glob import glob\n",
    "from tqdm import tqdm\n",
    "from datetime import datetime\n",
    "import pickle"
   ]
  },
  {
   "cell_type": "markdown",
   "metadata": {},
   "source": [
    "##### **Accept**"
   ]
  },
  {
   "cell_type": "code",
   "execution_count": 61,
   "metadata": {},
   "outputs": [],
   "source": [
    "os_name = platform.system().lower()\n",
    "architecture = platform.machine()\n",
    "\n",
    "driver_path = None\n",
    "if os_name == 'darwin':\n",
    "    driver_path = glob('../driver/**/chromedriver', recursive=True)[0]\n",
    "else:\n",
    "    driver_path = glob('../driver/**/chromedriver.exe', recursive=True)[0]"
   ]
  },
  {
   "cell_type": "code",
   "execution_count": 62,
   "metadata": {},
   "outputs": [],
   "source": [
    "# 드라이버 파일의 권한을 확인하고 수정\n",
    "if os_name == 'darwin':  # 맥 사용자\n",
    "    driver_permissions = os.stat(driver_path).st_mode\n",
    "    if not (driver_permissions & 0o100):  # 실행 권한 확인\n",
    "        os.chmod(driver_path, driver_permissions | 0o111)  # 실행 권한 추가\n",
    "else:  # 윈도우 사용자\n",
    "    driver_permissions = os.stat(driver_path).st_mode\n",
    "    if not (driver_permissions & 0o100):  # 실행 권한 확인\n",
    "        os.chmod(driver_path, driver_permissions | 0o111)  # 실행 권한 추가"
   ]
  },
  {
   "cell_type": "markdown",
   "metadata": {},
   "source": [
    "##### **Chrome Options**"
   ]
  },
  {
   "cell_type": "code",
   "execution_count": 63,
   "metadata": {},
   "outputs": [],
   "source": [
    "service = Service(executable_path=driver_path)\n",
    "chrome_options =  webdriver.ChromeOptions()\n",
    "#chrome_options.add_argument('--headless')\n",
    "chrome_options.add_argument('--disable-gpu')\n",
    "chrome_options.add_argument('--disable-dev-shm-usage')\n",
    "chrome_options.add_argument('--no-sandbox')\n",
    "#chrome_options.add_argument('--blink-settings=imagesEnabled=false')\n",
    "chrome_options.add_argument('--disable-blink-features=AutomationControlled')"
   ]
  },
  {
   "cell_type": "markdown",
   "metadata": {},
   "source": [
    "##### **Define**"
   ]
  },
  {
   "cell_type": "code",
   "execution_count": 65,
   "metadata": {},
   "outputs": [],
   "source": [
    "url = 'https://www.instagram.com/p/C052WSVpeg7/'"
   ]
  },
  {
   "cell_type": "code",
   "execution_count": 67,
   "metadata": {},
   "outputs": [
    {
     "data": {
      "text/plain": [
       "''"
      ]
     },
     "execution_count": 67,
     "metadata": {},
     "output_type": "execute_result"
    }
   ],
   "source": [
    "# Web OPEN\n",
    "driver = webdriver.Chrome(service=service, options=chrome_options)\n",
    "driver.get(url)\n",
    "\n",
    "driver.refresh()\n",
    "time.sleep(3)\n",
    "input()"
   ]
  },
  {
   "cell_type": "code",
   "execution_count": 69,
   "metadata": {},
   "outputs": [
    {
     "name": "stdout",
     "output_type": "stream",
     "text": [
      "❌ 댓글 컨테이너 접근 실패: Message: invalid session id: session deleted as the browser has closed the connection\n",
      "from disconnected: not connected to DevTools\n",
      "  (Session info: chrome=134.0.6998.166)\n",
      "Stacktrace:\n",
      "\tGetHandleVerifier [0x00007FF7BF6FFE45+26629]\n",
      "\t(No symbol) [0x00007FF7BF666010]\n",
      "\t(No symbol) [0x00007FF7BF4F931A]\n",
      "\t(No symbol) [0x00007FF7BF4E4F65]\n",
      "\t(No symbol) [0x00007FF7BF509E04]\n",
      "\t(No symbol) [0x00007FF7BF57F85F]\n",
      "\t(No symbol) [0x00007FF7BF59FA55]\n",
      "\t(No symbol) [0x00007FF7BF577883]\n",
      "\t(No symbol) [0x00007FF7BF540550]\n",
      "\t(No symbol) [0x00007FF7BF541803]\n",
      "\tGetHandleVerifier [0x00007FF7BFA572BD+3529853]\n",
      "\tGetHandleVerifier [0x00007FF7BFA6DA22+3621858]\n",
      "\tGetHandleVerifier [0x00007FF7BFA624D3+3575443]\n",
      "\tGetHandleVerifier [0x00007FF7BF7CB77A+860474]\n",
      "\t(No symbol) [0x00007FF7BF67088F]\n",
      "\t(No symbol) [0x00007FF7BF66CBC4]\n",
      "\t(No symbol) [0x00007FF7BF66CD66]\n",
      "\t(No symbol) [0x00007FF7BF65C2C9]\n",
      "\tBaseThreadInitThunk [0x00007FFA170FE8D7+23]\n",
      "\tRtlUserThreadStart [0x00007FFA1743BF6C+44]\n",
      "\n"
     ]
    }
   ],
   "source": [
    "try:\n",
    "    comment_container = driver.find_element(By.XPATH, '//*[@id=\"mount_0_0_vu\"]/div/div/div[2]/div/div/div[1]/div[1]/div[1]/section/main/div/div[1]/div/div[2]/div/div[2]')\n",
    "    \n",
    "    last_height = driver.execute_script(\"return arguments[0].scrollHeight\", comment_container)\n",
    "    \n",
    "    while True:\n",
    "        driver.execute_script(\"arguments[0].scrollTo(0, arguments[0].scrollHeight);\", comment_container)\n",
    "        time.sleep(2)\n",
    "\n",
    "        new_height = driver.execute_script(\"return arguments[0].scrollHeight\", comment_container)\n",
    "\n",
    "        if new_height == last_height:\n",
    "            break\n",
    "        last_height = new_height\n",
    "\n",
    "except Exception as e:\n",
    "    print(\"❌ 댓글 컨테이너 접근 실패:\", e)"
   ]
  },
  {
   "cell_type": "code",
   "execution_count": 41,
   "metadata": {},
   "outputs": [],
   "source": [
    "comment_blocks = driver.find_elements(By.XPATH,\n",
    "    '//*[@id=\"mount_0_0_uo\"]/div/div/div[2]/div/div/div[1]/div[1]/div[1]/section/main/div/div[1]/div/div[2]/div/div[2]/div/div[2]/div'\n",
    ")"
   ]
  },
  {
   "cell_type": "code",
   "execution_count": 44,
   "metadata": {},
   "outputs": [],
   "source": [
    "data = []\n",
    "\n",
    "for idx, block in enumerate(comment_blocks, 1):\n",
    "    try:\n",
    "        user = block.find_element(By.XPATH, './/span[1]//a//span').text\n",
    "    except:\n",
    "        user = None\n",
    "\n",
    "    try:\n",
    "        date = block.find_element(By.XPATH, './/span[2]//a//time').text\n",
    "    except:\n",
    "        date = None\n",
    "\n",
    "    try:\n",
    "        text = block.find_element(By.XPATH, './/div[contains(@class, \"x1cy8zhl\")]/span').text\n",
    "    except:\n",
    "        text = None\n",
    "\n",
    "    data.append({\n",
    "        \"ID\": user,\n",
    "        \"CREATED\": date,\n",
    "        \"COMMENT\": text\n",
    "    })"
   ]
  },
  {
   "cell_type": "markdown",
   "metadata": {},
   "source": [
    "##### **To CSV**"
   ]
  },
  {
   "cell_type": "code",
   "execution_count": 56,
   "metadata": {},
   "outputs": [],
   "source": [
    "result_df = pd.DataFrame(data)"
   ]
  },
  {
   "cell_type": "code",
   "execution_count": 58,
   "metadata": {},
   "outputs": [],
   "source": [
    "driver.close()\n",
    "driver.quit()"
   ]
  },
  {
   "cell_type": "code",
   "execution_count": 19,
   "metadata": {},
   "outputs": [],
   "source": [
    "today_str = datetime.today().strftime(\"%m%d\")"
   ]
  },
  {
   "cell_type": "code",
   "execution_count": 23,
   "metadata": {},
   "outputs": [],
   "source": [
    "result_df.to_csv(rf'..\\data\\review\\{today_str}_{file_name}.csv', index=False, encoding='utf-8-sig')"
   ]
  }
 ],
 "metadata": {
  "kernelspec": {
   "display_name": "llm",
   "language": "python",
   "name": "python3"
  },
  "language_info": {
   "codemirror_mode": {
    "name": "ipython",
    "version": 3
   },
   "file_extension": ".py",
   "mimetype": "text/x-python",
   "name": "python",
   "nbconvert_exporter": "python",
   "pygments_lexer": "ipython3",
   "version": "3.12.4"
  }
 },
 "nbformat": 4,
 "nbformat_minor": 2
}
