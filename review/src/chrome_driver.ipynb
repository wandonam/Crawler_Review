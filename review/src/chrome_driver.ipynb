{
 "cells": [
  {
   "cell_type": "markdown",
   "metadata": {},
   "source": [
    "Chrome Driver\n",
    "* https://googlechromelabs.github.io/chrome-for-testing/#stable"
   ]
  },
  {
   "cell_type": "code",
   "execution_count": 3,
   "metadata": {},
   "outputs": [
    {
     "name": "stdout",
     "output_type": "stream",
     "text": [
      "운영체제: Windows, 아키텍처: 64-bit\n"
     ]
    }
   ],
   "source": [
    "import platform\n",
    "import sys, os, requests, zipfile\n",
    "\n",
    "# 운영체제 및 아키텍처 확인\n",
    "os_name = platform.system().lower()\n",
    "architecture = platform.machine()\n",
    "\n",
    "if os_name == 'darwin':\n",
    "    if architecture == 'arm64':\n",
    "        print(\"운영체제: macOS, 아키텍처: ARM64\")\n",
    "    elif architecture == 'x86_64':\n",
    "        print(\"운영체제: macOS, 아키텍처: x64\")\n",
    "elif os_name == 'windows':\n",
    "    if sys.maxsize > 2**32:\n",
    "        print(\"운영체제: Windows, 아키텍처: 64-bit\")\n",
    "    else:\n",
    "        print(\"운영체제: Windows, 아키텍처: 32-bit\")\n",
    "else:\n",
    "    print(f\"운영체제: {os_name}, 아키텍처: {architecture}\")\n"
   ]
  },
  {
   "cell_type": "markdown",
   "metadata": {},
   "source": [
    "Check Chrome version"
   ]
  },
  {
   "cell_type": "code",
   "execution_count": 1,
   "metadata": {},
   "outputs": [],
   "source": [
    "chrome_driver_url = 'https://storage.googleapis.com/chrome-for-testing-public/129.0.6668.100/win64/chromedriver-win64.zip'"
   ]
  },
  {
   "cell_type": "code",
   "execution_count": 4,
   "metadata": {},
   "outputs": [],
   "source": [
    "# 다운로드\n",
    "os.makedirs(rf'../driver', exist_ok=True)\n",
    "with requests.get(chrome_driver_url) as response:\n",
    "    with open('../driver/chromedriver.zip', 'wb') as file:\n",
    "        file.write(response.content)\n",
    "\n",
    "\n",
    "# 압축해제\n",
    "with zipfile.ZipFile('../driver/chromedriver.zip') as zip_ref:\n",
    "    zip_ref.extractall('../driver')\n",
    "os.remove('../driver/chromedriver.zip')"
   ]
  }
 ],
 "metadata": {
  "kernelspec": {
   "display_name": "Python 3",
   "language": "python",
   "name": "python3"
  },
  "language_info": {
   "codemirror_mode": {
    "name": "ipython",
    "version": 3
   },
   "file_extension": ".py",
   "mimetype": "text/x-python",
   "name": "python",
   "nbconvert_exporter": "python",
   "pygments_lexer": "ipython3",
   "version": "3.12.4"
  }
 },
 "nbformat": 4,
 "nbformat_minor": 2
}
