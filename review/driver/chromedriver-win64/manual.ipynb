{
 "cells": [
  {
   "cell_type": "markdown",
   "metadata": {},
   "source": [
    "##### *library*"
   ]
  },
  {
   "cell_type": "code",
   "execution_count": 7,
   "metadata": {},
   "outputs": [],
   "source": [
    "import platform\n",
    "import re, requests, csv, sys, os, zipfile\n",
    "from glob import glob"
   ]
  },
  {
   "cell_type": "code",
   "execution_count": 8,
   "metadata": {},
   "outputs": [],
   "source": [
    "os_name = platform.system().lower()\n",
    "architecture = platform.machine()"
   ]
  },
  {
   "cell_type": "code",
   "execution_count": 13,
   "metadata": {},
   "outputs": [
    {
     "name": "stdout",
     "output_type": "stream",
     "text": [
      "운영체제: Windows, 아키텍처: 64-bit\n"
     ]
    }
   ],
   "source": [
    "if os_name == 'darwin':\n",
    "    if architecture == 'arm64':\n",
    "        print(\"운영체제: macOS, 아키텍처: ARM64\")\n",
    "    elif architecture == 'x86_64':\n",
    "        print(\"운영체제: macOS, 아키텍처: x64\")\n",
    "elif os_name == 'windows':\n",
    "    if sys.maxsize > 2**32:\n",
    "        print(\"운영체제: Windows, 아키텍처: 64-bit\")\n",
    "    else:\n",
    "        print(\"운영체제: Windows, 아키텍처: 32-bit\")\n",
    "else:\n",
    "    print(f\"운영체제: {os_name}, 아키텍처: {architecture}\")"
   ]
  },
  {
   "cell_type": "markdown",
   "metadata": {},
   "source": [
    "##### *chrome driver*"
   ]
  },
  {
   "cell_type": "markdown",
   "metadata": {},
   "source": [
    "<mark>download url:</mark> https://googlechromelabs.github.io/chrome-for-testing/#stable"
   ]
  },
  {
   "cell_type": "code",
   "execution_count": 9,
   "metadata": {},
   "outputs": [],
   "source": [
    "chrome_driver_url = 'https://storage.googleapis.com/chrome-for-testing-public/125.0.6422.60/win64/chromedriver-win64.zip'"
   ]
  },
  {
   "cell_type": "code",
   "execution_count": 10,
   "metadata": {},
   "outputs": [
    {
     "data": {
      "text/plain": [
       "'.\\\\chromedriver-win64\\\\chromedriver.exe'"
      ]
     },
     "execution_count": 10,
     "metadata": {},
     "output_type": "execute_result"
    }
   ],
   "source": [
    "\n",
    "\n",
    "driver_path = None\n",
    "if os_name == 'darwin': # 맥 사용자\n",
    "    driver_path = glob('./**/chromedriver', recursive=True)[0]\n",
    "else: # 윈도우 사용자\n",
    "    driver_path = glob('./**/chromedriver.exe', recursive=True)[0]\n",
    "\n",
    "driver_path"
   ]
  },
  {
   "cell_type": "code",
   "execution_count": 11,
   "metadata": {},
   "outputs": [],
   "source": [
    "# 드라이버 파일의 권한을 확인하고 수정\n",
    "if os_name == 'darwin':  # 맥 사용자\n",
    "    driver_permissions = os.stat(driver_path).st_mode\n",
    "    if not (driver_permissions & 0o100):  # 실행 권한 확인\n",
    "        os.chmod(driver_path, driver_permissions | 0o111)  # 실행 권한 추가\n",
    "else:  # 윈도우 사용자\n",
    "    driver_permissions = os.stat(driver_path).st_mode\n",
    "    if not (driver_permissions & 0o100):  # 실행 권한 확인\n",
    "        os.chmod(driver_path, driver_permissions | 0o111)  # 실행 권한 추가\n"
   ]
  }
 ],
 "metadata": {
  "kernelspec": {
   "display_name": "llm",
   "language": "python",
   "name": "python3"
  },
  "language_info": {
   "codemirror_mode": {
    "name": "ipython",
    "version": 3
   },
   "file_extension": ".py",
   "mimetype": "text/x-python",
   "name": "python",
   "nbconvert_exporter": "python",
   "pygments_lexer": "ipython3",
   "version": "3.12.3"
  }
 },
 "nbformat": 4,
 "nbformat_minor": 2
}
